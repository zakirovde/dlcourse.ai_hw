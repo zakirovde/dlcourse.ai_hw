{
  "nbformat": 4,
  "nbformat_minor": 0,
  "metadata": {
    "accelerator": "GPU",
    "colab": {
      "name": "PyTorch_CNN.ipynb",
      "provenance": [],
      "collapsed_sections": []
    },
    "kernelspec": {
      "display_name": "Python 3",
      "language": "python",
      "name": "python3"
    },
    "language_info": {
      "codemirror_mode": {
        "name": "ipython",
        "version": 3
      },
      "file_extension": ".py",
      "mimetype": "text/x-python",
      "name": "python",
      "nbconvert_exporter": "python",
      "pygments_lexer": "ipython3",
      "version": "3.7.3"
    }
  },
  "cells": [
    {
      "cell_type": "markdown",
      "metadata": {
        "id": "Esupz2y46LGI",
        "colab_type": "text"
      },
      "source": [
        "# Задание 3.2 - сверточные нейронные сети (CNNs) в PyTorch\n",
        "\n",
        "Это упражнение мы буде выполнять в Google Colab - https://colab.research.google.com/  \n",
        "Google Colab позволяет запускать код в notebook в облаке Google, где можно воспользоваться бесплатным GPU!  \n",
        "\n",
        "Авторы курса благодарят компанию Google и надеятся, что праздник не закончится.\n",
        "\n",
        "Туториал по настройке Google Colab:  \n",
        "https://medium.com/deep-learning-turkey/google-colab-free-gpu-tutorial-e113627b9f5d  \n",
        "(Keras инсталлировать не нужно, наш notebook сам установит PyTorch)\n"
      ]
    },
    {
      "cell_type": "code",
      "metadata": {
        "id": "w_EAGeme7rzT",
        "colab_type": "code",
        "colab": {
          "base_uri": "https://localhost:8080/",
          "height": 425
        },
        "outputId": "0dc12c1d-e31d-490b-b7a3-baf26a09bf11"
      },
      "source": [
        "!mkdir data\n",
        "!cd data\n",
        "!wget -c http://ufldl.stanford.edu/housenumbers/train_32x32.mat http://ufldl.stanford.edu/housenumbers/test_32x32.mat"
      ],
      "execution_count": 2,
      "outputs": [
        {
          "output_type": "stream",
          "text": [
            "--2020-05-20 11:54:02--  http://ufldl.stanford.edu/housenumbers/train_32x32.mat\n",
            "Resolving ufldl.stanford.edu (ufldl.stanford.edu)... 171.64.68.10\n",
            "Connecting to ufldl.stanford.edu (ufldl.stanford.edu)|171.64.68.10|:80... connected.\n",
            "HTTP request sent, awaiting response... 200 OK\n",
            "Length: 182040794 (174M) [text/plain]\n",
            "Saving to: ‘train_32x32.mat’\n",
            "\n",
            "train_32x32.mat     100%[===================>] 173.61M  20.2MB/s    in 11s     \n",
            "\n",
            "2020-05-20 11:54:13 (16.0 MB/s) - ‘train_32x32.mat’ saved [182040794/182040794]\n",
            "\n",
            "--2020-05-20 11:54:13--  http://ufldl.stanford.edu/housenumbers/test_32x32.mat\n",
            "Reusing existing connection to ufldl.stanford.edu:80.\n",
            "HTTP request sent, awaiting response... 200 OK\n",
            "Length: 64275384 (61M) [text/plain]\n",
            "Saving to: ‘test_32x32.mat’\n",
            "\n",
            "test_32x32.mat      100%[===================>]  61.30M  21.0MB/s    in 2.9s    \n",
            "\n",
            "2020-05-20 11:54:16 (21.0 MB/s) - ‘test_32x32.mat’ saved [64275384/64275384]\n",
            "\n",
            "FINISHED --2020-05-20 11:54:16--\n",
            "Total wall clock time: 14s\n",
            "Downloaded: 2 files, 235M in 14s (17.1 MB/s)\n"
          ],
          "name": "stdout"
        }
      ]
    },
    {
      "cell_type": "code",
      "metadata": {
        "colab_type": "code",
        "id": "FcXBeP1O7cnY",
        "colab": {}
      },
      "source": [
        "# Intstall PyTorch and download data\n",
        "!pip3 install torch torchvision\n",
        "\n",
        "!wget -c http://ufldl.stanford.edu/housenumbers/train_32x32.mat http://ufldl.stanford.edu/housenumbers/test_32x32.mat"
      ],
      "execution_count": 0,
      "outputs": []
    },
    {
      "cell_type": "code",
      "metadata": {
        "colab_type": "code",
        "id": "-afwWw-Q85vD",
        "colab": {}
      },
      "source": [
        "from collections import namedtuple\n",
        "\n",
        "import matplotlib.pyplot as plt\n",
        "import numpy as np\n",
        "import PIL\n",
        "import torch\n",
        "import torch.nn as nn\n",
        "import torch.optim as optim\n",
        "import torchvision.datasets as dset\n",
        "from torch.utils.data.sampler import SubsetRandomSampler\n",
        "\n",
        "from torchvision import transforms\n",
        "import random\n",
        "import warnings\n",
        "warnings.filterwarnings('ignore')"
      ],
      "execution_count": 0,
      "outputs": []
    },
    {
      "cell_type": "code",
      "metadata": {
        "colab_type": "code",
        "id": "NNU-OD9O9ltP",
        "colab": {}
      },
      "source": [
        "device = torch.device(\"cuda:0\") # Let's make sure GPU is available!"
      ],
      "execution_count": 0,
      "outputs": []
    },
    {
      "cell_type": "markdown",
      "metadata": {
        "id": "RQFLO0wH6LGS",
        "colab_type": "text"
      },
      "source": [
        "# Загружаем данные"
      ]
    },
    {
      "cell_type": "code",
      "metadata": {
        "colab_type": "code",
        "id": "YAvkoRx-9FsP",
        "colab": {}
      },
      "source": [
        "# First, lets load the dataset\n",
        "data_train = dset.SVHN('./', \n",
        "                       transform=transforms.Compose([\n",
        "                           transforms.ToTensor(),\n",
        "                           transforms.Normalize(mean=[0.43,0.44,0.47],\n",
        "                                               std=[0.20,0.20,0.20])                           \n",
        "                       ])\n",
        "                      )\n",
        "data_test = dset.SVHN('./', split='test', transform=transforms.Compose([\n",
        "                           transforms.ToTensor(),\n",
        "                           transforms.Normalize(mean=[0.43,0.44,0.47],\n",
        "                                               std=[0.20,0.20,0.20])                           \n",
        "                       ]))"
      ],
      "execution_count": 0,
      "outputs": []
    },
    {
      "cell_type": "markdown",
      "metadata": {
        "id": "PGN7ieRN6LGV",
        "colab_type": "text"
      },
      "source": [
        "Разделяем данные на training и validation.\n",
        "\n",
        "На всякий случай для подробностей - https://pytorch.org/tutorials/beginner/data_loading_tutorial.html"
      ]
    },
    {
      "cell_type": "code",
      "metadata": {
        "colab_type": "code",
        "id": "YRnr8CPg7Hli",
        "colab": {}
      },
      "source": [
        "batch_size = 64\n",
        "\n",
        "data_size = data_train.data.shape[0]\n",
        "validation_split = .2\n",
        "split = int(np.floor(validation_split * data_size))\n",
        "indices = list(range(data_size))\n",
        "np.random.shuffle(indices)\n",
        "\n",
        "train_indices, val_indices = indices[split:], indices[:split]\n",
        "\n",
        "train_sampler = SubsetRandomSampler(train_indices)\n",
        "val_sampler = SubsetRandomSampler(val_indices)\n",
        "\n",
        "train_loader = torch.utils.data.DataLoader(data_train, batch_size=batch_size, \n",
        "                                           sampler=train_sampler)\n",
        "val_loader = torch.utils.data.DataLoader(data_train, batch_size=batch_size,\n",
        "                                         sampler=val_sampler)\n",
        "\n",
        "test_loader = torch.utils.data.DataLoader(data_test, batch_size=batch_size)"
      ],
      "execution_count": 0,
      "outputs": []
    },
    {
      "cell_type": "code",
      "metadata": {
        "colab_type": "code",
        "id": "LyYvt-T67PBG",
        "colab": {}
      },
      "source": [
        "# We'll use a special helper module to shape it into a flat tensor\n",
        "class Flattener(nn.Module):\n",
        "    def forward(self, x):\n",
        "        batch_size, *_ = x.shape\n",
        "        return x.view(batch_size, -1)"
      ],
      "execution_count": 0,
      "outputs": []
    },
    {
      "cell_type": "markdown",
      "metadata": {
        "id": "4PoJMtL96LGb",
        "colab_type": "text"
      },
      "source": [
        "Создадим простейшую сеть с новыми слоями:  \n",
        "Convolutional - `nn.Conv2d`  \n",
        "MaxPool - `nn.MaxPool2d`"
      ]
    },
    {
      "cell_type": "code",
      "metadata": {
        "colab_type": "code",
        "id": "w9SFVGZP7SQd",
        "colab": {}
      },
      "source": [
        "nn_model = nn.Sequential(\n",
        "            nn.Conv2d(3, 64, 3, padding=1),\n",
        "            nn.ReLU(inplace=True),\n",
        "            nn.MaxPool2d(4),\n",
        "            nn.Conv2d(64, 64, 3, padding=1),\n",
        "            nn.ReLU(inplace=True),\n",
        "            nn.MaxPool2d(4),  \n",
        "            Flattener(),\n",
        "            nn.Linear(64*2*2, 10),\n",
        "          )\n",
        "\n",
        "nn_model.type(torch.cuda.FloatTensor)\n",
        "nn_model.to(device)\n",
        "\n",
        "loss = nn.CrossEntropyLoss().type(torch.cuda.FloatTensor)\n",
        "optimizer = optim.SGD(nn_model.parameters(), lr=1e-1, weight_decay=1e-4)"
      ],
      "execution_count": 0,
      "outputs": []
    },
    {
      "cell_type": "markdown",
      "metadata": {
        "id": "21oENAwW6LGe",
        "colab_type": "text"
      },
      "source": [
        "Восстановите функцию `compute_accuracy` из прошлого задания.  \n",
        "Единственное отличие в новом - она должна передать данные на GPU прежде чем прогонять через модель. Сделайте это так же, как это делает функция `train_model`"
      ]
    },
    {
      "cell_type": "code",
      "metadata": {
        "colab_type": "code",
        "id": "2ek3KVQK7hJ6",
        "colab": {
          "base_uri": "https://localhost:8080/",
          "height": 102
        },
        "outputId": "494c9b01-8ed8-41cc-fd1c-9f71acc170a1"
      },
      "source": [
        "def train_model(model, train_loader, val_loader, loss, optimizer, num_epochs, scheduler = None):    \n",
        "    loss_history = []\n",
        "    train_history = []\n",
        "    val_history = []\n",
        "    for epoch in range(num_epochs):\n",
        "        model.train() # Enter train mode\n",
        "        if scheduler:\n",
        "            scheduler.step()\n",
        "        \n",
        "        loss_accum = 0\n",
        "        correct_samples = 0\n",
        "        total_samples = 0\n",
        "        for i_step, (x, y) in enumerate(train_loader):\n",
        "          \n",
        "            x_gpu = x.to(device)\n",
        "            y_gpu = y.to(device)\n",
        "            prediction = model(x_gpu)    \n",
        "            loss_value = loss(prediction, y_gpu)\n",
        "            optimizer.zero_grad()\n",
        "            loss_value.backward()\n",
        "            optimizer.step()\n",
        "            \n",
        "            _, indices = torch.max(prediction, 1)\n",
        "            correct_samples += torch.sum(indices == y_gpu)\n",
        "            total_samples += y.shape[0]\n",
        "            \n",
        "            loss_accum += loss_value\n",
        "\n",
        "        ave_loss = loss_accum / i_step\n",
        "        train_accuracy = float(correct_samples) / total_samples\n",
        "        val_accuracy = compute_accuracy(model, val_loader)\n",
        "        \n",
        "        loss_history.append(float(ave_loss))\n",
        "        train_history.append(train_accuracy)\n",
        "        val_history.append(val_accuracy)\n",
        "        \n",
        "        print(\"Average loss: %f, Train accuracy: %f, Val accuracy: %f\" % (ave_loss, train_accuracy, val_accuracy))\n",
        "        \n",
        "    return loss_history, train_history, val_history\n",
        "        \n",
        "def compute_accuracy(model, loader):\n",
        "    \"\"\"\n",
        "    Computes accuracy on the dataset wrapped in a loader\n",
        "    \n",
        "    Returns: accuracy as a float value between 0 and 1\n",
        "    \"\"\"\n",
        "    model.eval().to(device)\n",
        "    totals, correct = 0, 0\n",
        "    for i_step, (x, y) in enumerate(loader):\n",
        "        x = x.to(device)\n",
        "        y = y.to(device)\n",
        "        prediction = model(x)\n",
        "        _, predicted = torch.max(prediction, 1)\n",
        "        totals += y.size(0)\n",
        "        correct += (predicted==y).sum().item()\n",
        "    return correct / totals\n",
        "\n",
        "loss_history, train_history, val_history = train_model(nn_model, train_loader, val_loader, loss, optimizer, 5)"
      ],
      "execution_count": 107,
      "outputs": [
        {
          "output_type": "stream",
          "text": [
            "Average loss: 0.504488, Train accuracy: 0.849794, Val accuracy: 0.835165\n",
            "Average loss: 0.504527, Train accuracy: 0.849794, Val accuracy: 0.835165\n",
            "Average loss: 0.504481, Train accuracy: 0.849794, Val accuracy: 0.835165\n",
            "Average loss: 0.504506, Train accuracy: 0.849794, Val accuracy: 0.835165\n",
            "Average loss: 0.504511, Train accuracy: 0.849794, Val accuracy: 0.835165\n"
          ],
          "name": "stdout"
        }
      ]
    },
    {
      "cell_type": "markdown",
      "metadata": {
        "colab_type": "text",
        "id": "6a-3a1ZFGEw_"
      },
      "source": [
        "# Аугментация данных (Data augmentation)\n",
        "\n",
        "В работе с изображениями одним из особенно важных методов является аугментация данных - то есть, генерация дополнительных данных для тренировки на основе изначальных.   \n",
        "Таким образом, мы получаем возможность \"увеличить\" набор данных для тренировки, что ведет к лучшей работе сети.\n",
        "Важно, чтобы аугментированные данные были похожи на те, которые могут встретиться в реальной жизни, иначе польза от аугментаций уменьшается и может ухудшить работу сети.\n",
        "\n",
        "С PyTorch идут несколько таких алгоритмов, называемых `transforms`. Более подробно про них можно прочитать тут -\n",
        "https://pytorch.org/tutorials/beginner/data_loading_tutorial.html#transforms\n",
        "\n",
        "Ниже мы используем следующие алгоритмы генерации:\n",
        "- ColorJitter - случайное изменение цвета\n",
        "- RandomHorizontalFlip - горизонтальное отражение с вероятностью 50%\n",
        "- RandomVerticalFlip - вертикальное отражение с вероятностью 50%\n",
        "- RandomRotation - случайный поворот"
      ]
    },
    {
      "cell_type": "code",
      "metadata": {
        "colab_type": "code",
        "id": "jCWMUWmr7t5g",
        "colab": {}
      },
      "source": [
        "tfs = transforms.Compose([\n",
        "    transforms.ColorJitter(hue=.50, saturation=.50),\n",
        "    transforms.RandomHorizontalFlip(),\n",
        "    transforms.RandomVerticalFlip(),\n",
        "    transforms.RandomRotation(50, resample=PIL.Image.BILINEAR),\n",
        "    transforms.ToTensor(),\n",
        "    transforms.Normalize(mean=[0.43,0.44,0.47],\n",
        "                       std=[0.20,0.20,0.20])                           \n",
        "])\n",
        "\n",
        "# Create augmented train dataset\n",
        "data_aug_train = dset.SVHN('./', \n",
        "                       transform=tfs\n",
        "                      )\n",
        "\n",
        "train_aug_loader = torch.utils.data.DataLoader(data_aug_train, batch_size=batch_size, \n",
        "                                           sampler=train_sampler)"
      ],
      "execution_count": 0,
      "outputs": []
    },
    {
      "cell_type": "markdown",
      "metadata": {
        "id": "T5kB7nL36LGl",
        "colab_type": "text"
      },
      "source": [
        "Визуализируем результаты агментации (вообще, смотреть на сгенерированные данные всегда очень полезно)."
      ]
    },
    {
      "cell_type": "code",
      "metadata": {
        "colab_type": "code",
        "id": "YlJJEro1KZ45",
        "colab": {
          "base_uri": "https://localhost:8080/",
          "height": 110
        },
        "outputId": "a27789d4-bc1d-44c6-e45d-a2d55ba950b9"
      },
      "source": [
        "# TODO: Visualize some augmented images!\n",
        "# hint: you can create new datasets and loaders to accomplish this\n",
        "\n",
        "# Based on the visualizations, should we keep all the augmentations?\n",
        "\n",
        "tfs = transforms.Compose([\n",
        "    transforms.ColorJitter(hue=.2, saturation=.2, contrast=.5),\n",
        "    transforms.RandomPerspective(distortion_scale=.1, p=.3),\n",
        "    transforms.RandomRotation(30)\n",
        "])\n",
        "\n",
        "data_aug_vis = dset.SVHN('./', \n",
        "                       transform=tfs\n",
        "                      )\n",
        "\n",
        "plt.figure(figsize=(30, 3))\n",
        "\n",
        "for i, (x, y) in enumerate(data_aug_vis):\n",
        "    if i == 10:\n",
        "        break\n",
        "    plt.subplot(1, 10, i+1)\n",
        "    plt.grid(False)\n",
        "    plt.imshow(x)\n",
        "    plt.axis('off')"
      ],
      "execution_count": 39,
      "outputs": [
        {
          "output_type": "display_data",
          "data": {
            "image/png": "[encoded data removed]",
            "text/plain": [
              "<Figure size 2160x216 with 10 Axes>"
            ]
          },
          "metadata": {
            "tags": [],
            "needs_background": "light"
          }
        }
      ]
    },
    {
      "cell_type": "markdown",
      "metadata": {
        "colab_type": "text",
        "id": "o2LrmsYHoguB"
      },
      "source": [
        "Все ли агментации одинаково полезны на этом наборе данных? Могут ли быть среди них те, которые собьют модель с толку?\n",
        "\n",
        "Выберите из них только корректные"
      ]
    },
    {
      "cell_type": "code",
      "metadata": {
        "colab_type": "code",
        "id": "evro9ksXGs9u",
        "colab": {}
      },
      "source": [
        "# TODO: \n",
        "tfs = transforms.Compose([\n",
        "    transforms.ColorJitter(hue=.2, saturation=.2, contrast=.5),\n",
        "    # transforms.RandomPerspective(distortion_scale=.1, p=.3),\n",
        "    # transforms.RandomRotation(30, resample=PIL.Image.BILINEAR),\n",
        "    transforms.ToTensor(),\n",
        "    transforms.Normalize(mean=[0.43,0.44,0.47],\n",
        "                       std=[0.20,0.20,0.20])                           \n",
        "])\n",
        "\n",
        "# TODO create new instances of loaders with the augmentations you chose\n",
        "data_aug_loader = dset.SVHN('./', transform=tfs)\n",
        "\n",
        "train_aug_loader = torch.utils.data.DataLoader(data_aug_loader, batch_size, sampler=train_sampler)"
      ],
      "execution_count": 0,
      "outputs": []
    },
    {
      "cell_type": "code",
      "metadata": {
        "id": "2WDFMtanOA9n",
        "colab_type": "code",
        "colab": {}
      },
      "source": [
        "nn_model = nn.Sequential(\n",
        "            nn.Conv2d(3, 64, 3, padding=1),\n",
        "            nn.ReLU(inplace=True),\n",
        "            nn.MaxPool2d(4),\n",
        "            nn.Conv2d(64, 64, 3, padding=1),\n",
        "            nn.ReLU(inplace=True),\n",
        "            nn.MaxPool2d(4),  \n",
        "            Flattener(),\n",
        "            nn.Linear(64*2*2, 10),\n",
        "          )\n",
        "\n",
        "nn_model.type(torch.cuda.FloatTensor)\n",
        "nn_model.to(device)\n",
        "\n",
        "loss = nn.CrossEntropyLoss().type(torch.cuda.FloatTensor)\n",
        "optimizer = optim.SGD(nn_model.parameters(), lr=1e-1, weight_decay=1e-4)"
      ],
      "execution_count": 0,
      "outputs": []
    },
    {
      "cell_type": "code",
      "metadata": {
        "colab_type": "code",
        "id": "PeO6Zw0DHqPR",
        "colab": {
          "base_uri": "https://localhost:8080/",
          "height": 102
        },
        "outputId": "2faef155-7bc4-4781-f75e-4f498b4888bf"
      },
      "source": [
        "# Finally, let's train with augmentations!\n",
        "\n",
        "# Note we shouldn't use augmentations on validation\n",
        "\n",
        "loss_history, train_history, val_history = train_model(nn_model, train_aug_loader, val_loader, loss, optimizer, 5)"
      ],
      "execution_count": 87,
      "outputs": [
        {
          "output_type": "stream",
          "text": [
            "Average loss: 1.484313, Train accuracy: 0.505767, Val accuracy: 0.754283\n",
            "Average loss: 0.759007, Train accuracy: 0.770006, Val accuracy: 0.815234\n",
            "Average loss: 0.656824, Train accuracy: 0.803911, Val accuracy: 0.831274\n",
            "Average loss: 0.608314, Train accuracy: 0.820820, Val accuracy: 0.820490\n",
            "Average loss: 0.568962, Train accuracy: 0.832918, Val accuracy: 0.835165\n"
          ],
          "name": "stdout"
        }
      ]
    },
    {
      "cell_type": "markdown",
      "metadata": {
        "colab_type": "text",
        "id": "r0bcioK6JBDK"
      },
      "source": [
        "# LeNet\n",
        "Попробуем имплементировать классическую архитектуру сверточной нейронной сети, предложенную Яном ЛеКуном в 1998 году. В свое время она достигла впечатляющих результатов на MNIST, посмотрим как она справится с SVHN?\n",
        "Она описана в статье [\"Gradient Based Learning Applied to Document Recognition\"](http://yann.lecun.com/exdb/publis/pdf/lecun-01a.pdf), попробуйте прочитать ключевые части и имплементировать предложенную архитетуру на PyTorch.\n",
        "\n",
        "Реализовывать слои и функцию ошибки LeNet, которых нет в PyTorch, **не нужно** - просто возьмите их размеры и переведите в уже известные нам Convolutional, Pooling и Fully Connected layers.\n",
        "\n",
        "Если в статье не очень понятно, можно просто погуглить LeNet и разобраться в деталях :)"
      ]
    },
    {
      "cell_type": "code",
      "metadata": {
        "colab_type": "code",
        "id": "ieEzZUglJAUB",
        "colab": {
          "base_uri": "https://localhost:8080/",
          "height": 187
        },
        "outputId": "5c87ada6-b8a5-4e0c-8e41-644846e66dae"
      },
      "source": [
        "# TODO: Implement LeNet-like architecture for SVHN task\n",
        "lenet_model = nn.Sequential(\n",
        "    nn.Conv2d(3, 6, 5),\n",
        "    nn.ReLU(inplace=True),\n",
        "    nn.MaxPool2d(2, stride=2),\n",
        "    nn.Conv2d(6, 16, 5),\n",
        "    nn.ReLU(inplace=True),\n",
        "    nn.MaxPool2d(2, stride=2),\n",
        "    nn.Conv2d(16, 120, 5),\n",
        "    nn.ReLU(inplace=True),\n",
        "    Flattener(),\n",
        "    nn.Linear(120, 84),\n",
        "    nn.Linear(84, 10)\n",
        "          )\n",
        "\n",
        "lenet_model.type(torch.cuda.FloatTensor)\n",
        "lenet_model.to(device)\n",
        "\n",
        "loss = nn.CrossEntropyLoss().type(torch.cuda.FloatTensor)\n",
        "optimizer = optim.SGD(lenet_model.parameters(), lr=1e-1, weight_decay=1e-4)\n",
        "\n",
        "# Let's train it!\n",
        "loss_history, train_history, val_history = train_model(lenet_model, train_aug_loader, val_loader, loss, optimizer, 10)"
      ],
      "execution_count": 88,
      "outputs": [
        {
          "output_type": "stream",
          "text": [
            "Average loss: 1.224334, Train accuracy: 0.593932, Val accuracy: 0.774828\n",
            "Average loss: 0.519683, Train accuracy: 0.847354, Val accuracy: 0.866630\n",
            "Average loss: 0.430147, Train accuracy: 0.873289, Val accuracy: 0.871886\n",
            "Average loss: 0.381861, Train accuracy: 0.887093, Val accuracy: 0.868132\n",
            "Average loss: 0.343888, Train accuracy: 0.898184, Val accuracy: 0.883421\n",
            "Average loss: 0.322779, Train accuracy: 0.905078, Val accuracy: 0.864310\n",
            "Average loss: 0.302849, Train accuracy: 0.910180, Val accuracy: 0.892089\n",
            "Average loss: 0.280251, Train accuracy: 0.916101, Val accuracy: 0.879189\n",
            "Average loss: 0.267239, Train accuracy: 0.920230, Val accuracy: 0.884240\n",
            "Average loss: 0.253414, Train accuracy: 0.923387, Val accuracy: 0.887311\n"
          ],
          "name": "stdout"
        }
      ]
    },
    {
      "cell_type": "markdown",
      "metadata": {
        "colab_type": "text",
        "id": "u_O9qiYySvuj"
      },
      "source": [
        "# Подбор гиперпараметров"
      ]
    },
    {
      "cell_type": "code",
      "metadata": {
        "id": "Y7SwVcvtmdKS",
        "colab_type": "code",
        "colab": {}
      },
      "source": [
        "def weight_reset(m):\n",
        "    if isinstance(m, nn.Conv2d) or isinstance(m, nn.Linear):\n",
        "        m.reset_parameters()"
      ],
      "execution_count": 0,
      "outputs": []
    },
    {
      "cell_type": "code",
      "metadata": {
        "colab_type": "code",
        "id": "i6mhfdQ9K-N3",
        "colab": {
          "base_uri": "https://localhost:8080/",
          "height": 1000
        },
        "outputId": "9d49ebdb-c484-4844-bcdd-5855bda5a07d"
      },
      "source": [
        "# The key hyperparameters we're going to tune are learning speed, annealing rate and regularization\n",
        "# We also encourage you to try different optimizers as well\n",
        "\n",
        "Hyperparams = namedtuple(\"Hyperparams\", ['learning_rate', 'weight_decay', 'anneal_epochs', 'anneal_coeff'])\n",
        "RunResult = namedtuple(\"RunResult\", ['model', 'train_history', 'val_history', 'final_val_accuracy'])\n",
        "\n",
        "batch_size = 64\n",
        "epoch_num = 10\n",
        "\n",
        "run_record = {} \n",
        "\n",
        "for i in range(10):\n",
        "  #lr, w_d, an_ep, an_c\n",
        "  lenet_model.apply(weight_reset)  # reset parameters\n",
        "  params = [random.random() / 100, random.random() / 500, np.floor(random.random() * 10), random.random() / 1.5]\n",
        "  loss = nn.CrossEntropyLoss().type(torch.cuda.FloatTensor)\n",
        "  optimizer = optim.SGD(lenet_model.parameters(), lr=params[0], weight_decay=params[1])\n",
        "  scheduler = optim.lr_scheduler.StepLR(optimizer, step_size=params[2], gamma=params[3])\n",
        "  loss_history, train_history, val_history = train_model(lenet_model, train_aug_loader\n",
        "                                                         , val_loader, loss, optimizer, 15, scheduler)\n",
        "  run_record[Hyperparams(*params)] = RunResult(lenet_model, train_history, val_history, val_history[-1])"
      ],
      "execution_count": 124,
      "outputs": [
        {
          "output_type": "stream",
          "text": [
            "Average loss: 2.240847, Train accuracy: 0.186380, Val accuracy: 0.189270\n",
            "Average loss: 1.983653, Train accuracy: 0.314456, Val accuracy: 0.535800\n",
            "Average loss: 1.112004, Train accuracy: 0.668310, Val accuracy: 0.757764\n",
            "Average loss: 0.771485, Train accuracy: 0.780398, Val accuracy: 0.802334\n",
            "Average loss: 0.665633, Train accuracy: 0.814729, Val accuracy: 0.820627\n",
            "Average loss: 0.594921, Train accuracy: 0.835290, Val accuracy: 0.844243\n",
            "Average loss: 0.543844, Train accuracy: 0.850391, Val accuracy: 0.855436\n",
            "Average loss: 0.505409, Train accuracy: 0.862062, Val accuracy: 0.861102\n",
            "Average loss: 0.457639, Train accuracy: 0.874484, Val accuracy: 0.863149\n",
            "Average loss: 0.443374, Train accuracy: 0.878750, Val accuracy: 0.869360\n",
            "Average loss: 0.431101, Train accuracy: 0.881548, Val accuracy: 0.872841\n",
            "Average loss: 0.421519, Train accuracy: 0.884398, Val accuracy: 0.873865\n",
            "Average loss: 0.413964, Train accuracy: 0.886036, Val accuracy: 0.877483\n",
            "Average loss: 0.405861, Train accuracy: 0.889005, Val accuracy: 0.877415\n",
            "Average loss: 0.395894, Train accuracy: 0.891342, Val accuracy: 0.879189\n",
            "Average loss: 2.250316, Train accuracy: 0.183889, Val accuracy: 0.185858\n",
            "Average loss: 2.219822, Train accuracy: 0.193257, Val accuracy: 0.197870\n",
            "Average loss: 1.854223, Train accuracy: 0.367471, Val accuracy: 0.606102\n",
            "Average loss: 0.954843, Train accuracy: 0.717828, Val accuracy: 0.791277\n",
            "Average loss: 0.707924, Train accuracy: 0.801812, Val accuracy: 0.821446\n",
            "Average loss: 0.607602, Train accuracy: 0.832628, Val accuracy: 0.841171\n",
            "Average loss: 0.582722, Train accuracy: 0.839897, Val accuracy: 0.848133\n",
            "Average loss: 0.558747, Train accuracy: 0.846569, Val accuracy: 0.849157\n",
            "Average loss: 0.538942, Train accuracy: 0.851875, Val accuracy: 0.847587\n",
            "Average loss: 0.525060, Train accuracy: 0.856175, Val accuracy: 0.853184\n",
            "Average loss: 0.507626, Train accuracy: 0.861687, Val accuracy: 0.849840\n",
            "Average loss: 0.480814, Train accuracy: 0.867880, Val accuracy: 0.861716\n",
            "Average loss: 0.473865, Train accuracy: 0.869672, Val accuracy: 0.864719\n",
            "Average loss: 0.467616, Train accuracy: 0.871293, Val accuracy: 0.866289\n",
            "Average loss: 0.463156, Train accuracy: 0.872146, Val accuracy: 0.868064\n",
            "Average loss: 2.255728, Train accuracy: 0.185169, Val accuracy: 0.185858\n",
            "Average loss: 2.235969, Train accuracy: 0.190049, Val accuracy: 0.185858\n",
            "Average loss: 2.233542, Train accuracy: 0.190049, Val accuracy: 0.185858\n",
            "Average loss: 2.231390, Train accuracy: 0.190049, Val accuracy: 0.185858\n",
            "Average loss: 2.230283, Train accuracy: 0.190049, Val accuracy: 0.185858\n",
            "Average loss: 2.229660, Train accuracy: 0.190049, Val accuracy: 0.185858\n",
            "Average loss: 2.228965, Train accuracy: 0.190049, Val accuracy: 0.185858\n",
            "Average loss: 2.228680, Train accuracy: 0.190049, Val accuracy: 0.185858\n",
            "Average loss: 2.228578, Train accuracy: 0.190049, Val accuracy: 0.185858\n",
            "Average loss: 2.228762, Train accuracy: 0.190049, Val accuracy: 0.185858\n",
            "Average loss: 2.228451, Train accuracy: 0.190049, Val accuracy: 0.185858\n",
            "Average loss: 2.228672, Train accuracy: 0.190049, Val accuracy: 0.185858\n",
            "Average loss: 2.228394, Train accuracy: 0.190049, Val accuracy: 0.185858\n",
            "Average loss: 2.228529, Train accuracy: 0.190049, Val accuracy: 0.185858\n",
            "Average loss: 2.228481, Train accuracy: 0.190049, Val accuracy: 0.185858\n",
            "Average loss: 2.240274, Train accuracy: 0.188803, Val accuracy: 0.187496\n",
            "Average loss: 2.089595, Train accuracy: 0.271559, Val accuracy: 0.418811\n",
            "Average loss: 1.668665, Train accuracy: 0.458929, Val accuracy: 0.501467\n",
            "Average loss: 1.478130, Train accuracy: 0.536344, Val accuracy: 0.576616\n",
            "Average loss: 1.302893, Train accuracy: 0.602071, Val accuracy: 0.633882\n",
            "Average loss: 1.208104, Train accuracy: 0.639388, Val accuracy: 0.650672\n",
            "Average loss: 1.186125, Train accuracy: 0.646180, Val accuracy: 0.660296\n",
            "Average loss: 1.163551, Train accuracy: 0.654063, Val accuracy: 0.665552\n",
            "Average loss: 1.151906, Train accuracy: 0.659728, Val accuracy: 0.670466\n",
            "Average loss: 1.149189, Train accuracy: 0.660786, Val accuracy: 0.672377\n",
            "Average loss: 1.141396, Train accuracy: 0.662714, Val accuracy: 0.673674\n",
            "Average loss: 1.140139, Train accuracy: 0.663720, Val accuracy: 0.673060\n",
            "Average loss: 1.142205, Train accuracy: 0.663550, Val accuracy: 0.673060\n",
            "Average loss: 1.140257, Train accuracy: 0.663004, Val accuracy: 0.673196\n",
            "Average loss: 1.139636, Train accuracy: 0.663669, Val accuracy: 0.673196\n",
            "Average loss: 2.251261, Train accuracy: 0.181859, Val accuracy: 0.185858\n",
            "Average loss: 2.234208, Train accuracy: 0.190066, Val accuracy: 0.185926\n",
            "Average loss: 2.228163, Train accuracy: 0.190339, Val accuracy: 0.186745\n",
            "Average loss: 2.222131, Train accuracy: 0.191704, Val accuracy: 0.189202\n",
            "Average loss: 2.217100, Train accuracy: 0.194997, Val accuracy: 0.190021\n",
            "Average loss: 2.212908, Train accuracy: 0.196874, Val accuracy: 0.197120\n",
            "Average loss: 2.209727, Train accuracy: 0.200764, Val accuracy: 0.197529\n",
            "Average loss: 2.208622, Train accuracy: 0.201379, Val accuracy: 0.199850\n",
            "Average loss: 2.206698, Train accuracy: 0.203017, Val accuracy: 0.201556\n",
            "Average loss: 2.206155, Train accuracy: 0.203819, Val accuracy: 0.202102\n",
            "Average loss: 2.205708, Train accuracy: 0.203802, Val accuracy: 0.202375\n",
            "Average loss: 2.205615, Train accuracy: 0.204552, Val accuracy: 0.202512\n",
            "Average loss: 2.205615, Train accuracy: 0.204791, Val accuracy: 0.202990\n",
            "Average loss: 2.205563, Train accuracy: 0.204587, Val accuracy: 0.202990\n",
            "Average loss: 2.205231, Train accuracy: 0.205371, Val accuracy: 0.203194\n",
            "Average loss: 2.253202, Train accuracy: 0.183138, Val accuracy: 0.185858\n",
            "Average loss: 2.218112, Train accuracy: 0.193513, Val accuracy: 0.204286\n",
            "Average loss: 1.994755, Train accuracy: 0.315855, Val accuracy: 0.467067\n",
            "Average loss: 1.362395, Train accuracy: 0.581289, Val accuracy: 0.678452\n",
            "Average loss: 1.009062, Train accuracy: 0.708323, Val accuracy: 0.740086\n",
            "Average loss: 0.859357, Train accuracy: 0.757004, Val accuracy: 0.768207\n",
            "Average loss: 0.822755, Train accuracy: 0.769665, Val accuracy: 0.775510\n",
            "Average loss: 0.790163, Train accuracy: 0.777907, Val accuracy: 0.784315\n",
            "Average loss: 0.762903, Train accuracy: 0.786404, Val accuracy: 0.789025\n",
            "Average loss: 0.737837, Train accuracy: 0.794799, Val accuracy: 0.801106\n",
            "Average loss: 0.716850, Train accuracy: 0.800498, Val accuracy: 0.804723\n",
            "Average loss: 0.695576, Train accuracy: 0.807699, Val accuracy: 0.810661\n",
            "Average loss: 0.688886, Train accuracy: 0.808347, Val accuracy: 0.812095\n",
            "Average loss: 0.685216, Train accuracy: 0.810207, Val accuracy: 0.815644\n",
            "Average loss: 0.678892, Train accuracy: 0.811760, Val accuracy: 0.817487\n",
            "Average loss: 2.284459, Train accuracy: 0.190049, Val accuracy: 0.185858\n",
            "Average loss: 2.270735, Train accuracy: 0.190049, Val accuracy: 0.185858\n",
            "Average loss: 2.267059, Train accuracy: 0.190049, Val accuracy: 0.185858\n",
            "Average loss: 2.266155, Train accuracy: 0.190049, Val accuracy: 0.185858\n",
            "Average loss: 2.265919, Train accuracy: 0.190049, Val accuracy: 0.185858\n",
            "Average loss: 2.265821, Train accuracy: 0.190049, Val accuracy: 0.185858\n",
            "Average loss: 2.265863, Train accuracy: 0.190049, Val accuracy: 0.185858\n",
            "Average loss: 2.265808, Train accuracy: 0.190049, Val accuracy: 0.185858\n",
            "Average loss: 2.265793, Train accuracy: 0.190049, Val accuracy: 0.185858\n",
            "Average loss: 2.265943, Train accuracy: 0.190049, Val accuracy: 0.185858\n",
            "Average loss: 2.265921, Train accuracy: 0.190049, Val accuracy: 0.185858\n",
            "Average loss: 2.265846, Train accuracy: 0.190049, Val accuracy: 0.185858\n",
            "Average loss: 2.265849, Train accuracy: 0.190049, Val accuracy: 0.185858\n",
            "Average loss: 2.265826, Train accuracy: 0.190049, Val accuracy: 0.185858\n",
            "Average loss: 2.265924, Train accuracy: 0.190049, Val accuracy: 0.185858\n",
            "Average loss: 2.250370, Train accuracy: 0.186414, Val accuracy: 0.185858\n",
            "Average loss: 2.230303, Train accuracy: 0.190868, Val accuracy: 0.186677\n",
            "Average loss: 2.161035, Train accuracy: 0.224926, Val accuracy: 0.286397\n",
            "Average loss: 1.555994, Train accuracy: 0.497833, Val accuracy: 0.703570\n",
            "Average loss: 0.898004, Train accuracy: 0.744173, Val accuracy: 0.798376\n",
            "Average loss: 0.714914, Train accuracy: 0.802699, Val accuracy: 0.818511\n",
            "Average loss: 0.632027, Train accuracy: 0.826588, Val accuracy: 0.828408\n",
            "Average loss: 0.580143, Train accuracy: 0.841160, Val accuracy: 0.833049\n",
            "Average loss: 0.540266, Train accuracy: 0.852029, Val accuracy: 0.853730\n",
            "Average loss: 0.509453, Train accuracy: 0.859861, Val accuracy: 0.853867\n",
            "Average loss: 0.484460, Train accuracy: 0.865799, Val accuracy: 0.853048\n",
            "Average loss: 0.459073, Train accuracy: 0.871276, Val accuracy: 0.862808\n",
            "Average loss: 0.436966, Train accuracy: 0.877538, Val accuracy: 0.869633\n",
            "Average loss: 0.420812, Train accuracy: 0.881702, Val accuracy: 0.875708\n",
            "Average loss: 0.403460, Train accuracy: 0.886599, Val accuracy: 0.878165\n",
            "Average loss: 2.251327, Train accuracy: 0.186653, Val accuracy: 0.185858\n",
            "Average loss: 2.223020, Train accuracy: 0.192079, Val accuracy: 0.197393\n",
            "Average loss: 1.887357, Train accuracy: 0.352097, Val accuracy: 0.587127\n",
            "Average loss: 1.055178, Train accuracy: 0.686346, Val accuracy: 0.761723\n",
            "Average loss: 0.811491, Train accuracy: 0.770655, Val accuracy: 0.782745\n",
            "Average loss: 0.789459, Train accuracy: 0.779681, Val accuracy: 0.787182\n",
            "Average loss: 0.771738, Train accuracy: 0.783538, Val accuracy: 0.794690\n",
            "Average loss: 0.755729, Train accuracy: 0.790277, Val accuracy: 0.798990\n",
            "Average loss: 0.740590, Train accuracy: 0.794117, Val accuracy: 0.803563\n",
            "Average loss: 0.729585, Train accuracy: 0.797734, Val accuracy: 0.804109\n",
            "Average loss: 0.727398, Train accuracy: 0.799253, Val accuracy: 0.804996\n",
            "Average loss: 0.728009, Train accuracy: 0.799389, Val accuracy: 0.804245\n",
            "Average loss: 0.726684, Train accuracy: 0.798382, Val accuracy: 0.805542\n",
            "Average loss: 0.722435, Train accuracy: 0.800157, Val accuracy: 0.804791\n",
            "Average loss: 0.724443, Train accuracy: 0.799901, Val accuracy: 0.805065\n",
            "Average loss: 2.256113, Train accuracy: 0.185817, Val accuracy: 0.185858\n",
            "Average loss: 2.234385, Train accuracy: 0.190049, Val accuracy: 0.185858\n",
            "Average loss: 2.229293, Train accuracy: 0.190049, Val accuracy: 0.185926\n",
            "Average loss: 2.224011, Train accuracy: 0.190151, Val accuracy: 0.185858\n",
            "Average loss: 2.219568, Train accuracy: 0.190714, Val accuracy: 0.186608\n",
            "Average loss: 2.215408, Train accuracy: 0.191772, Val accuracy: 0.187291\n",
            "Average loss: 2.212543, Train accuracy: 0.192506, Val accuracy: 0.188861\n",
            "Average loss: 2.210371, Train accuracy: 0.193205, Val accuracy: 0.189270\n",
            "Average loss: 2.209208, Train accuracy: 0.193803, Val accuracy: 0.190021\n",
            "Average loss: 2.208105, Train accuracy: 0.194178, Val accuracy: 0.190635\n",
            "Average loss: 2.207119, Train accuracy: 0.194878, Val accuracy: 0.191045\n",
            "Average loss: 2.207036, Train accuracy: 0.195048, Val accuracy: 0.191181\n",
            "Average loss: 2.207167, Train accuracy: 0.195185, Val accuracy: 0.191250\n",
            "Average loss: 2.206343, Train accuracy: 0.195048, Val accuracy: 0.191250\n",
            "Average loss: 2.206781, Train accuracy: 0.195219, Val accuracy: 0.191318\n"
          ],
          "name": "stdout"
        }
      ]
    },
    {
      "cell_type": "code",
      "metadata": {
        "colab_type": "code",
        "id": "Y6xExdw8JB1l",
        "outputId": "0dac836e-11a8-4b2b-94a2-982a1ee06447",
        "colab": {
          "base_uri": "https://localhost:8080/",
          "height": 54
        }
      },
      "source": [
        "best_val_accuracy = None\n",
        "best_hyperparams = None\n",
        "best_run = None\n",
        "\n",
        "for hyperparams, run_result in run_record.items():\n",
        "    if best_val_accuracy is None or best_val_accuracy < run_result.final_val_accuracy:\n",
        "        best_val_accuracy = run_result.final_val_accuracy\n",
        "        best_hyperparams = hyperparams\n",
        "        best_run = run_result\n",
        "        \n",
        "print(\"Best validation accuracy: %4.2f, best hyperparams: %s\" % (best_val_accuracy, best_hyperparams))\n",
        "        "
      ],
      "execution_count": 125,
      "outputs": [
        {
          "output_type": "stream",
          "text": [
            "Best validation accuracy: 0.88, best hyperparams: Hyperparams(learning_rate=0.009964937476961607, weight_decay=0.0017654525021124482, anneal_epochs=9.0, anneal_coeff=0.42079729987720266)\n"
          ],
          "name": "stdout"
        }
      ]
    },
    {
      "cell_type": "markdown",
      "metadata": {
        "colab_type": "text",
        "id": "LOmsR0uVgtgf"
      },
      "source": [
        "# Свободное упражнение - догоним и перегоним LeNet!\n",
        "\n",
        "Попробуйте найти архитектуру и настройки тренировки, чтобы выступить лучше наших бейзлайнов.\n",
        "\n",
        "Что можно и нужно попробовать:\n",
        "- BatchNormalization (для convolution layers он в PyTorch называется [batchnorm2d](https://pytorch.org/docs/stable/nn.html#batchnorm2d))\n",
        "- Изменить количество слоев и их толщину\n",
        "- Изменять количество эпох тренировки\n",
        "- Попробовать и другие агментации"
      ]
    },
    {
      "cell_type": "code",
      "metadata": {
        "colab_type": "code",
        "id": "tSVhD747icoc",
        "colab": {
          "base_uri": "https://localhost:8080/",
          "height": 272
        },
        "outputId": "06430263-7a70-4e73-dd2f-3d978f9fd072"
      },
      "source": [
        "# vgg inspired\n",
        "\n",
        "best_model = nn.Sequential(\n",
        "    nn.Conv2d(3, 64, 3),\n",
        "    nn.BatchNorm2d(64),\n",
        "    nn.ReLU(inplace=True),\n",
        "    nn.Conv2d(64, 64, 3),\n",
        "    nn.BatchNorm2d(64),\n",
        "    nn.ReLU(inplace=True),\n",
        "    nn.MaxPool2d(2),\n",
        "\n",
        "    nn.Conv2d(64, 128, 3),\n",
        "    nn.BatchNorm2d(128),\n",
        "    nn.ReLU(inplace=True),\n",
        "    nn.Conv2d(128, 128, 3),\n",
        "    nn.BatchNorm2d(128),\n",
        "    nn.ReLU(inplace=True),\n",
        "    nn.MaxPool2d(2),\n",
        "\n",
        "    Flattener(),\n",
        "    nn.Linear(3200, 256),\n",
        "    nn.Dropout(.5),\n",
        "    nn.Linear(256, 10)\n",
        ")\n",
        "\n",
        "best_model.type(torch.cuda.FloatTensor)\n",
        "best_model.to(device)\n",
        "\n",
        "optimizer = optim.Adam(best_model.parameters(), \n",
        "                       lr=1e-2, weight_decay=1e-3)\n",
        "scheduler = optim.lr_scheduler.StepLR(optimizer, step_size=2, gamma=.5)\n",
        "loss = nn.CrossEntropyLoss().type(torch.cuda.FloatTensor)\n",
        "\n",
        "loss_history, train_history, val_history = train_model(best_model, train_aug_loader, val_loader, loss, optimizer, 15, scheduler)"
      ],
      "execution_count": 164,
      "outputs": [
        {
          "output_type": "stream",
          "text": [
            "Average loss: 1.765122, Train accuracy: 0.567911, Val accuracy: 0.846154\n",
            "Average loss: 0.488591, Train accuracy: 0.853837, Val accuracy: 0.868746\n",
            "Average loss: 0.455436, Train accuracy: 0.862557, Val accuracy: 0.876118\n",
            "Average loss: 0.365246, Train accuracy: 0.890864, Val accuracy: 0.895707\n",
            "Average loss: 0.356734, Train accuracy: 0.894533, Val accuracy: 0.910109\n",
            "Average loss: 0.298826, Train accuracy: 0.912859, Val accuracy: 0.917685\n",
            "Average loss: 0.291468, Train accuracy: 0.913780, Val accuracy: 0.917275\n",
            "Average loss: 0.253067, Train accuracy: 0.927652, Val accuracy: 0.930858\n",
            "Average loss: 0.243777, Train accuracy: 0.929291, Val accuracy: 0.927582\n",
            "Average loss: 0.216606, Train accuracy: 0.938044, Val accuracy: 0.931336\n",
            "Average loss: 0.209352, Train accuracy: 0.940603, Val accuracy: 0.932564\n",
            "Average loss: 0.192790, Train accuracy: 0.945910, Val accuracy: 0.932769\n",
            "Average loss: 0.187698, Train accuracy: 0.948077, Val accuracy: 0.932837\n",
            "Average loss: 0.178132, Train accuracy: 0.951746, Val accuracy: 0.933929\n",
            "Average loss: 0.173840, Train accuracy: 0.952769, Val accuracy: 0.934339\n"
          ],
          "name": "stdout"
        }
      ]
    },
    {
      "cell_type": "markdown",
      "metadata": {
        "colab_type": "text",
        "id": "ubeKgBcnhx7N"
      },
      "source": [
        "# Финальный аккорд - проверим лучшую модель на test set\n",
        "\n",
        "В качестве разнообразия - напишите код для прогона модели на test set вы.\n",
        "\n",
        "В результате вы должны натренировать модель, которая покажет более **90%** точности на test set.  \n",
        "Как водится, лучший результат в группе получит дополнительные баллы!"
      ]
    },
    {
      "cell_type": "code",
      "metadata": {
        "colab_type": "code",
        "id": "EIqM1kdeh-hd",
        "colab": {
          "base_uri": "https://localhost:8080/",
          "height": 34
        },
        "outputId": "d315b0c6-7644-4686-b082-e04485075081"
      },
      "source": [
        "final_test_accuracy = compute_accuracy(best_model, test_loader)\n",
        "print(\"Final test accuracy - \", final_test_accuracy)"
      ],
      "execution_count": 165,
      "outputs": [
        {
          "output_type": "stream",
          "text": [
            "Final test accuracy -  0.932659803318992\n"
          ],
          "name": "stdout"
        }
      ]
    },
    {
      "cell_type": "code",
      "metadata": {
        "colab_type": "code",
        "id": "BfH6qip6kVX_",
        "colab": {}
      },
      "source": [
        ""
      ],
      "execution_count": 0,
      "outputs": []
    }
  ]
}