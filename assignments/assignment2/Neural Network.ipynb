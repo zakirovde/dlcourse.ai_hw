{
 "cells": [
  {
   "cell_type": "markdown",
   "metadata": {},
   "source": [
    "# Задание 2.1 - Нейронные сети\n",
    "\n",
    "В этом задании вы реализуете и натренируете настоящую нейроную сеть своими руками!\n",
    "\n",
    "В некотором смысле это будет расширением прошлого задания - нам нужно просто составить несколько линейных классификаторов вместе!\n",
    "\n",
    "<img src=\"https://i.redd.it/n9fgba8b0qr01.png\" alt=\"Stack_more_layers\" width=\"400px\"/>"
   ]
  },
  {
   "cell_type": "code",
   "execution_count": 1,
   "metadata": {},
   "outputs": [],
   "source": [
    "import numpy as np\n",
    "import matplotlib.pyplot as plt\n",
    "\n",
    "%matplotlib inline\n",
    "\n",
    "%load_ext autoreload\n",
    "%autoreload 2"
   ]
  },
  {
   "cell_type": "code",
   "execution_count": 2,
   "metadata": {},
   "outputs": [],
   "source": [
    "from dataset import load_svhn, random_split_train_val\n",
    "from gradient_check import check_layer_gradient, check_layer_param_gradient, check_model_gradient\n",
    "from layers import FullyConnectedLayer, ReLULayer\n",
    "from model import TwoLayerNet\n",
    "from trainer import Trainer, Dataset\n",
    "from optim import SGD, MomentumSGD\n",
    "from metrics import multiclass_accuracy"
   ]
  },
  {
   "cell_type": "markdown",
   "metadata": {},
   "source": [
    "# Загружаем данные\n",
    "\n",
    "И разделяем их на training и validation."
   ]
  },
  {
   "cell_type": "code",
   "execution_count": 3,
   "metadata": {},
   "outputs": [],
   "source": [
    "def prepare_for_neural_network(train_X, test_X):\n",
    "    train_flat = train_X.reshape(train_X.shape[0], -1).astype(np.float) / 255.0\n",
    "    test_flat = test_X.reshape(test_X.shape[0], -1).astype(np.float) / 255.0\n",
    "    \n",
    "    # Subtract mean\n",
    "    mean_image = np.mean(train_flat, axis = 0)\n",
    "    train_flat -= mean_image\n",
    "    test_flat -= mean_image\n",
    "    \n",
    "    return train_flat, test_flat\n",
    "    \n",
    "train_X, train_y, test_X, test_y = load_svhn(\"../assignment1/data\", max_train=10000, max_test=1000)    \n",
    "train_X, test_X = prepare_for_neural_network(train_X, test_X)\n",
    "# Split train into train and val\n",
    "train_X, train_y, val_X, val_y = random_split_train_val(train_X, train_y, num_val = 1000)"
   ]
  },
  {
   "cell_type": "markdown",
   "metadata": {},
   "source": [
    "# Как всегда, начинаем с кирпичиков\n",
    "\n",
    "Мы будем реализовывать необходимые нам слои по очереди. Каждый слой должен реализовать:\n",
    "- прямой проход (forward pass), который генерирует выход слоя по входу и запоминает необходимые данные\n",
    "- обратный проход (backward pass), который получает градиент по выходу слоя и вычисляет градиент по входу и по параметрам\n",
    "\n",
    "Начнем с ReLU, у которого параметров нет."
   ]
  },
  {
   "cell_type": "code",
   "execution_count": 53,
   "metadata": {
    "scrolled": false
   },
   "outputs": [
    {
     "name": "stdout",
     "output_type": "stream",
     "text": [
      "Gradient check passed!\n"
     ]
    }
   ],
   "source": [
    "# TODO: Implement ReLULayer layer in layers.py\n",
    "# Note: you'll need to copy implementation of the gradient_check function from the previous assignment\n",
    "\n",
    "X = np.array([[1,-2,3],\n",
    "              [-1, 2, 0.1]\n",
    "              ])\n",
    "\n",
    "assert check_layer_gradient(ReLULayer(), X)"
   ]
  },
  {
   "cell_type": "markdown",
   "metadata": {},
   "source": [
    "А теперь реализуем полносвязный слой (fully connected layer), у которого будет два массива параметров: W (weights) и B (bias).\n",
    "\n",
    "Все параметры наши слои будут использовать для параметров специальный класс `Param`, в котором будут храниться значения параметров и градиенты этих параметров, вычисляемые во время обратного прохода.\n",
    "\n",
    "Это даст возможность аккумулировать (суммировать) градиенты из разных частей функции потерь, например, из cross-entropy loss и regularization loss."
   ]
  },
  {
   "cell_type": "code",
   "execution_count": 61,
   "metadata": {},
   "outputs": [
    {
     "name": "stdout",
     "output_type": "stream",
     "text": [
      "Gradient check passed!\n",
      "Gradient check passed!\n",
      "Gradient check passed!\n"
     ]
    }
   ],
   "source": [
    "# TODO: Implement FullyConnected layer forward and backward methods\n",
    "assert check_layer_gradient(FullyConnectedLayer(3, 4), X)\n",
    "# TODO: Implement storing gradients for W and B\n",
    "assert check_layer_param_gradient(FullyConnectedLayer(3, 4), X, 'W')\n",
    "assert check_layer_param_gradient(FullyConnectedLayer(3, 4), X, 'B')"
   ]
  },
  {
   "cell_type": "markdown",
   "metadata": {},
   "source": [
    "## Создаем нейронную сеть\n",
    "\n",
    "Теперь мы реализуем простейшую нейронную сеть с двумя полносвязным слоями и нелинейностью ReLU. Реализуйте функцию `compute_loss_and_gradients`, она должна запустить прямой и обратный проход через оба слоя для вычисления градиентов.\n",
    "\n",
    "Не забудьте реализовать очистку градиентов в начале функции."
   ]
  },
  {
   "cell_type": "code",
   "execution_count": 65,
   "metadata": {},
   "outputs": [
    {
     "name": "stdout",
     "output_type": "stream",
     "text": [
      "Checking gradient for W1\n",
      "Gradient check passed!\n",
      "Checking gradient for W2\n",
      "Gradient check passed!\n",
      "Checking gradient for B1\n",
      "Gradient check passed!\n",
      "Checking gradient for B2\n",
      "Gradient check passed!\n"
     ]
    },
    {
     "data": {
      "text/plain": [
       "True"
      ]
     },
     "execution_count": 65,
     "metadata": {},
     "output_type": "execute_result"
    }
   ],
   "source": [
    "# TODO: In model.py, implement compute_loss_and_gradients function\n",
    "model = TwoLayerNet(n_input = train_X.shape[1], n_output = 10, hidden_layer_size = 3, reg = 0)\n",
    "loss = model.compute_loss_and_gradients(train_X[:2], train_y[:2])\n",
    "\n",
    "# TODO Now implement backward pass and aggregate all of the params\n",
    "check_model_gradient(model, train_X[:2], train_y[:2])"
   ]
  },
  {
   "cell_type": "markdown",
   "metadata": {},
   "source": [
    "Теперь добавьте к модели регуляризацию - она должна прибавляться к loss и делать свой вклад в градиенты."
   ]
  },
  {
   "cell_type": "code",
   "execution_count": 66,
   "metadata": {},
   "outputs": [
    {
     "name": "stdout",
     "output_type": "stream",
     "text": [
      "Checking gradient for W1\n",
      "Gradient check passed!\n",
      "Checking gradient for W2\n",
      "Gradient check passed!\n",
      "Checking gradient for B1\n",
      "Gradient check passed!\n",
      "Checking gradient for B2\n",
      "Gradient check passed!\n"
     ]
    },
    {
     "data": {
      "text/plain": [
       "True"
      ]
     },
     "execution_count": 66,
     "metadata": {},
     "output_type": "execute_result"
    }
   ],
   "source": [
    "# TODO Now implement l2 regularization in the forward and backward pass\n",
    "model_with_reg = TwoLayerNet(n_input = train_X.shape[1], n_output = 10, hidden_layer_size = 3, reg = 1e1)\n",
    "loss_with_reg = model_with_reg.compute_loss_and_gradients(train_X[:2], train_y[:2])\n",
    "assert loss_with_reg > loss and not np.isclose(loss_with_reg, loss), \\\n",
    "    \"Loss with regularization (%2.4f) should be higher than without it (%2.4f)!\" % (loss, loss_with_reg)\n",
    "\n",
    "check_model_gradient(model_with_reg, train_X[:2], train_y[:2])"
   ]
  },
  {
   "cell_type": "markdown",
   "metadata": {},
   "source": [
    "Также реализуем функцию предсказания (вычисления значения) модели на новых данных.\n",
    "\n",
    "Какое значение точности мы ожидаем увидеть до начала тренировки?"
   ]
  },
  {
   "cell_type": "code",
   "execution_count": 74,
   "metadata": {},
   "outputs": [
    {
     "data": {
      "text/plain": [
       "0.16666666666666666"
      ]
     },
     "execution_count": 74,
     "metadata": {},
     "output_type": "execute_result"
    }
   ],
   "source": [
    "# Finally, implement predict function!\n",
    "\n",
    "# TODO: Implement predict function\n",
    "# What would be the value we expect?\n",
    "multiclass_accuracy(model_with_reg.predict(train_X[:30]), train_y[:30]) "
   ]
  },
  {
   "cell_type": "markdown",
   "metadata": {},
   "source": [
    "# Допишем код для процесса тренировки\n",
    "\n",
    "Если все реализовано корректно, значение функции ошибки должно уменьшаться с каждой эпохой, пусть и медленно. Не беспокойтесь пока про validation accuracy."
   ]
  },
  {
   "cell_type": "code",
   "execution_count": 87,
   "metadata": {},
   "outputs": [
    {
     "name": "stdout",
     "output_type": "stream",
     "text": [
      "Loss: 2.301280, Train accuracy: 0.148222, val accuracy: 0.140000\n",
      "Loss: 2.302535, Train accuracy: 0.148222, val accuracy: 0.140000\n",
      "Loss: 2.302409, Train accuracy: 0.148222, val accuracy: 0.140000\n",
      "Loss: 2.301305, Train accuracy: 0.196667, val accuracy: 0.206000\n",
      "Loss: 2.302257, Train accuracy: 0.148222, val accuracy: 0.140000\n",
      "Loss: 2.302098, Train accuracy: 0.196667, val accuracy: 0.206000\n",
      "Loss: 2.302886, Train accuracy: 0.196667, val accuracy: 0.206000\n",
      "Loss: 2.301686, Train accuracy: 0.196667, val accuracy: 0.206000\n",
      "Loss: 2.302406, Train accuracy: 0.196667, val accuracy: 0.206000\n",
      "Loss: 2.302412, Train accuracy: 0.148222, val accuracy: 0.140000\n",
      "Loss: 2.301960, Train accuracy: 0.196667, val accuracy: 0.206000\n",
      "Loss: 2.301584, Train accuracy: 0.196667, val accuracy: 0.206000\n",
      "Loss: 2.301064, Train accuracy: 0.196667, val accuracy: 0.206000\n",
      "Loss: 2.302910, Train accuracy: 0.196667, val accuracy: 0.206000\n",
      "Loss: 2.300712, Train accuracy: 0.196667, val accuracy: 0.206000\n",
      "Loss: 2.302279, Train accuracy: 0.196667, val accuracy: 0.206000\n",
      "Loss: 2.302143, Train accuracy: 0.148222, val accuracy: 0.140000\n",
      "Loss: 2.302488, Train accuracy: 0.196667, val accuracy: 0.206000\n",
      "Loss: 2.301789, Train accuracy: 0.196667, val accuracy: 0.206000\n",
      "Loss: 2.300649, Train accuracy: 0.196667, val accuracy: 0.206000\n"
     ]
    }
   ],
   "source": [
    "model = TwoLayerNet(n_input = train_X.shape[1], n_output = 10, hidden_layer_size = 100, reg = 1e1)\n",
    "dataset = Dataset(train_X, train_y, val_X, val_y)\n",
    "trainer = Trainer(model, dataset, SGD(), learning_rate = 1e-2)\n",
    "\n",
    "# TODO Implement missing pieces in Trainer.fit function\n",
    "# You should expect loss to go down every epoch, even if it's slow\n",
    "loss_history, train_history, val_history = trainer.fit()"
   ]
  },
  {
   "cell_type": "code",
   "execution_count": 88,
   "metadata": {},
   "outputs": [
    {
     "data": {
      "text/plain": [
       "[<matplotlib.lines.Line2D at 0x12a3260f0>]"
      ]
     },
     "execution_count": 88,
     "metadata": {},
     "output_type": "execute_result"
    },
    {
     "data": {
      "image/png": "[encoded data removed]",
      "text/plain": [
       "<Figure size 432x288 with 1 Axes>"
      ]
     },
     "metadata": {
      "needs_background": "light"
     },
     "output_type": "display_data"
    }
   ],
   "source": [
    "plt.plot(train_history)\n",
    "plt.plot(val_history)"
   ]
  },
  {
   "cell_type": "markdown",
   "metadata": {},
   "source": [
    "# Улучшаем процесс тренировки\n",
    "\n",
    "Мы реализуем несколько ключевых оптимизаций, необходимых для тренировки современных нейросетей."
   ]
  },
  {
   "cell_type": "markdown",
   "metadata": {},
   "source": [
    "## Уменьшение скорости обучения (learning rate decay)\n",
    "\n",
    "Одна из необходимых оптимизаций во время тренировки нейронных сетей - постепенное уменьшение скорости обучения по мере тренировки.\n",
    "\n",
    "Один из стандартных методов - уменьшение скорости обучения (learning rate) каждые N эпох на коэффициент d (часто называемый decay). Значения N и d, как всегда, являются гиперпараметрами и должны подбираться на основе эффективности на проверочных данных (validation data). \n",
    "\n",
    "В нашем случае N будет равным 1."
   ]
  },
  {
   "cell_type": "code",
   "execution_count": 89,
   "metadata": {},
   "outputs": [
    {
     "name": "stdout",
     "output_type": "stream",
     "text": [
      "Loss: 2.269247, Train accuracy: 0.196667, val accuracy: 0.206000\n",
      "Loss: 2.296377, Train accuracy: 0.196667, val accuracy: 0.206000\n",
      "Loss: 2.272432, Train accuracy: 0.196667, val accuracy: 0.206000\n",
      "Loss: 2.278184, Train accuracy: 0.196667, val accuracy: 0.206000\n",
      "Loss: 2.180032, Train accuracy: 0.196667, val accuracy: 0.206000\n",
      "Loss: 2.300199, Train accuracy: 0.196667, val accuracy: 0.206000\n",
      "Loss: 2.316191, Train accuracy: 0.196667, val accuracy: 0.206000\n",
      "Loss: 2.266506, Train accuracy: 0.196667, val accuracy: 0.206000\n",
      "Loss: 2.170522, Train accuracy: 0.196667, val accuracy: 0.206000\n",
      "Loss: 2.231160, Train accuracy: 0.196667, val accuracy: 0.206000\n",
      "Loss: 2.400609, Train accuracy: 0.196667, val accuracy: 0.206000\n",
      "Loss: 2.260013, Train accuracy: 0.196667, val accuracy: 0.206000\n",
      "Loss: 2.261420, Train accuracy: 0.196667, val accuracy: 0.206000\n",
      "Loss: 2.109102, Train accuracy: 0.196667, val accuracy: 0.206000\n",
      "Loss: 2.324529, Train accuracy: 0.196667, val accuracy: 0.206000\n",
      "Loss: 2.218551, Train accuracy: 0.196667, val accuracy: 0.206000\n",
      "Loss: 2.280248, Train accuracy: 0.196667, val accuracy: 0.206000\n",
      "Loss: 2.315731, Train accuracy: 0.196667, val accuracy: 0.206000\n",
      "Loss: 2.259944, Train accuracy: 0.196667, val accuracy: 0.206000\n",
      "Loss: 2.299026, Train accuracy: 0.196667, val accuracy: 0.206000\n"
     ]
    }
   ],
   "source": [
    "# TODO Implement learning rate decay inside Trainer.fit method\n",
    "# Decay should happen once per epoch\n",
    "\n",
    "model = TwoLayerNet(n_input = train_X.shape[1], n_output = 10, hidden_layer_size = 100, reg = 1e-1)\n",
    "dataset = Dataset(train_X, train_y, val_X, val_y)\n",
    "trainer = Trainer(model, dataset, SGD(), learning_rate_decay=0.99)\n",
    "\n",
    "initial_learning_rate = trainer.learning_rate\n",
    "loss_history, train_history, val_history = trainer.fit()\n",
    "\n",
    "assert trainer.learning_rate < initial_learning_rate, \"Learning rate should've been reduced\"\n",
    "assert trainer.learning_rate > 0.5*initial_learning_rate, \"Learning rate shouldn'tve been reduced that much!\""
   ]
  },
  {
   "cell_type": "markdown",
   "metadata": {},
   "source": [
    "# Накопление импульса (Momentum SGD)\n",
    "\n",
    "Другой большой класс оптимизаций - использование более эффективных методов градиентного спуска. Мы реализуем один из них - накопление импульса (Momentum SGD).\n",
    "\n",
    "Этот метод хранит скорость движения, использует градиент для ее изменения на каждом шаге, и изменяет веса пропорционально значению скорости.\n",
    "(Физическая аналогия: Вместо скорости градиенты теперь будут задавать ускорение, но будет присутствовать сила трения.)\n",
    "\n",
    "```\n",
    "velocity = momentum * velocity - learning_rate * gradient \n",
    "w = w + velocity\n",
    "```\n",
    "\n",
    "`momentum` здесь коэффициент затухания, который тоже является гиперпараметром (к счастью, для него часто есть хорошее значение по умолчанию, типичный диапазон -- 0.8-0.99).\n",
    "\n",
    "Несколько полезных ссылок, где метод разбирается более подробно:  \n",
    "http://cs231n.github.io/neural-networks-3/#sgd  \n",
    "https://distill.pub/2017/momentum/"
   ]
  },
  {
   "cell_type": "code",
   "execution_count": 539,
   "metadata": {},
   "outputs": [
    {
     "name": "stdout",
     "output_type": "stream",
     "text": [
      "Loss: 2.319259, Train accuracy: 0.196667, val accuracy: 0.206000\n",
      "Loss: 2.315311, Train accuracy: 0.196667, val accuracy: 0.206000\n",
      "Loss: 2.324991, Train accuracy: 0.196667, val accuracy: 0.206000\n",
      "Loss: 2.296613, Train accuracy: 0.196667, val accuracy: 0.206000\n",
      "Loss: 2.290584, Train accuracy: 0.196667, val accuracy: 0.206000\n",
      "Loss: 2.258606, Train accuracy: 0.196667, val accuracy: 0.206000\n",
      "Loss: 2.298491, Train accuracy: 0.196667, val accuracy: 0.206000\n",
      "Loss: 2.268889, Train accuracy: 0.196667, val accuracy: 0.206000\n",
      "Loss: 2.279392, Train accuracy: 0.196667, val accuracy: 0.206000\n",
      "Loss: 2.261754, Train accuracy: 0.196667, val accuracy: 0.206000\n",
      "Loss: 2.259977, Train accuracy: 0.196667, val accuracy: 0.206000\n",
      "Loss: 2.270213, Train accuracy: 0.196667, val accuracy: 0.206000\n",
      "Loss: 2.287300, Train accuracy: 0.196667, val accuracy: 0.206000\n",
      "Loss: 2.237670, Train accuracy: 0.196667, val accuracy: 0.206000\n",
      "Loss: 2.322230, Train accuracy: 0.196667, val accuracy: 0.206000\n",
      "Loss: 2.298202, Train accuracy: 0.196667, val accuracy: 0.206000\n",
      "Loss: 2.271141, Train accuracy: 0.196667, val accuracy: 0.206000\n",
      "Loss: 2.248606, Train accuracy: 0.196667, val accuracy: 0.206000\n",
      "Loss: 2.297566, Train accuracy: 0.196667, val accuracy: 0.206000\n",
      "Loss: 2.338064, Train accuracy: 0.196667, val accuracy: 0.206000\n"
     ]
    }
   ],
   "source": [
    "# TODO: Implement MomentumSGD.update function in optim.py\n",
    "\n",
    "model = TwoLayerNet(n_input = train_X.shape[1], n_output = 10, hidden_layer_size = 100, reg = 1e-1)\n",
    "dataset = Dataset(train_X, train_y, val_X, val_y)\n",
    "trainer = Trainer(model, dataset, MomentumSGD(), learning_rate=1e-4, learning_rate_decay=0.99)\n",
    "\n",
    "# You should see even better results than before!\n",
    "loss_history, train_history, val_history = trainer.fit()"
   ]
  },
  {
   "cell_type": "markdown",
   "metadata": {},
   "source": [
    "# Ну что, давайте уже тренировать сеть!"
   ]
  },
  {
   "cell_type": "markdown",
   "metadata": {},
   "source": [
    "## Последний тест - переобучимся (overfit) на маленьком наборе данных\n",
    "\n",
    "Хороший способ проверить, все ли реализовано корректно - переобучить сеть на маленьком наборе данных.  \n",
    "Наша модель обладает достаточной мощностью, чтобы приблизить маленький набор данных идеально, поэтому мы ожидаем, что на нем мы быстро дойдем до 100% точности на тренировочном наборе. \n",
    "\n",
    "Если этого не происходит, то где-то была допущена ошибка!"
   ]
  },
  {
   "cell_type": "code",
   "execution_count": 338,
   "metadata": {},
   "outputs": [
    {
     "name": "stdout",
     "output_type": "stream",
     "text": [
      "Loss: 2.335323, Train accuracy: 0.200000, val accuracy: 0.133333\n",
      "Loss: 2.336422, Train accuracy: 0.200000, val accuracy: 0.133333\n",
      "Loss: 2.315169, Train accuracy: 0.200000, val accuracy: 0.066667\n",
      "Loss: 2.345400, Train accuracy: 0.266667, val accuracy: 0.000000\n",
      "Loss: 2.312595, Train accuracy: 0.266667, val accuracy: 0.000000\n",
      "Loss: 2.288340, Train accuracy: 0.266667, val accuracy: 0.000000\n",
      "Loss: 2.220168, Train accuracy: 0.266667, val accuracy: 0.000000\n",
      "Loss: 2.184842, Train accuracy: 0.266667, val accuracy: 0.000000\n",
      "Loss: 2.352312, Train accuracy: 0.266667, val accuracy: 0.000000\n",
      "Loss: 2.265490, Train accuracy: 0.400000, val accuracy: 0.000000\n",
      "Loss: 2.154765, Train accuracy: 0.400000, val accuracy: 0.000000\n",
      "Loss: 1.723826, Train accuracy: 0.400000, val accuracy: 0.000000\n",
      "Loss: 2.457630, Train accuracy: 0.400000, val accuracy: 0.000000\n",
      "Loss: 1.927478, Train accuracy: 0.400000, val accuracy: 0.000000\n",
      "Loss: 2.151038, Train accuracy: 0.400000, val accuracy: 0.000000\n",
      "Loss: 2.364625, Train accuracy: 0.333333, val accuracy: 0.000000\n",
      "Loss: 1.786282, Train accuracy: 0.333333, val accuracy: 0.000000\n",
      "Loss: 2.009810, Train accuracy: 0.400000, val accuracy: 0.000000\n",
      "Loss: 2.005255, Train accuracy: 0.400000, val accuracy: 0.000000\n",
      "Loss: 1.694672, Train accuracy: 0.400000, val accuracy: 0.000000\n",
      "Loss: 1.754264, Train accuracy: 0.400000, val accuracy: 0.000000\n",
      "Loss: 1.730059, Train accuracy: 0.466667, val accuracy: 0.000000\n",
      "Loss: 1.943424, Train accuracy: 0.466667, val accuracy: 0.000000\n",
      "Loss: 1.944399, Train accuracy: 0.466667, val accuracy: 0.066667\n",
      "Loss: 1.663255, Train accuracy: 0.466667, val accuracy: 0.066667\n",
      "Loss: 1.744312, Train accuracy: 0.466667, val accuracy: 0.066667\n",
      "Loss: 2.004766, Train accuracy: 0.466667, val accuracy: 0.066667\n",
      "Loss: 1.651058, Train accuracy: 0.466667, val accuracy: 0.066667\n",
      "Loss: 1.836836, Train accuracy: 0.533333, val accuracy: 0.066667\n",
      "Loss: 1.879772, Train accuracy: 0.533333, val accuracy: 0.066667\n",
      "Loss: 1.294989, Train accuracy: 0.533333, val accuracy: 0.000000\n",
      "Loss: 1.935694, Train accuracy: 0.666667, val accuracy: 0.000000\n",
      "Loss: 1.188440, Train accuracy: 0.600000, val accuracy: 0.000000\n",
      "Loss: 1.469631, Train accuracy: 0.600000, val accuracy: 0.066667\n",
      "Loss: 1.603637, Train accuracy: 0.666667, val accuracy: 0.066667\n",
      "Loss: 1.521770, Train accuracy: 0.666667, val accuracy: 0.000000\n",
      "Loss: 1.764183, Train accuracy: 0.666667, val accuracy: 0.066667\n",
      "Loss: 1.664581, Train accuracy: 0.666667, val accuracy: 0.066667\n",
      "Loss: 1.255565, Train accuracy: 0.600000, val accuracy: 0.000000\n",
      "Loss: 1.020368, Train accuracy: 0.600000, val accuracy: 0.066667\n",
      "Loss: 1.648280, Train accuracy: 0.666667, val accuracy: 0.066667\n",
      "Loss: 1.273101, Train accuracy: 0.666667, val accuracy: 0.066667\n",
      "Loss: 1.704745, Train accuracy: 0.666667, val accuracy: 0.066667\n",
      "Loss: 1.647355, Train accuracy: 0.666667, val accuracy: 0.066667\n",
      "Loss: 1.253652, Train accuracy: 0.666667, val accuracy: 0.066667\n",
      "Loss: 1.358052, Train accuracy: 0.733333, val accuracy: 0.066667\n",
      "Loss: 1.138005, Train accuracy: 0.733333, val accuracy: 0.133333\n",
      "Loss: 1.590188, Train accuracy: 0.733333, val accuracy: 0.000000\n",
      "Loss: 1.136896, Train accuracy: 0.733333, val accuracy: 0.066667\n",
      "Loss: 1.452444, Train accuracy: 0.733333, val accuracy: 0.066667\n",
      "Loss: 1.653513, Train accuracy: 0.733333, val accuracy: 0.066667\n",
      "Loss: 1.860841, Train accuracy: 0.733333, val accuracy: 0.066667\n",
      "Loss: 1.164784, Train accuracy: 0.733333, val accuracy: 0.066667\n",
      "Loss: 1.587739, Train accuracy: 0.733333, val accuracy: 0.133333\n",
      "Loss: 1.194376, Train accuracy: 0.733333, val accuracy: 0.066667\n",
      "Loss: 1.457469, Train accuracy: 0.733333, val accuracy: 0.066667\n",
      "Loss: 1.268560, Train accuracy: 0.733333, val accuracy: 0.066667\n",
      "Loss: 1.405331, Train accuracy: 0.733333, val accuracy: 0.066667\n",
      "Loss: 1.879195, Train accuracy: 0.733333, val accuracy: 0.066667\n",
      "Loss: 0.996099, Train accuracy: 0.733333, val accuracy: 0.066667\n",
      "Loss: 1.701156, Train accuracy: 0.733333, val accuracy: 0.066667\n",
      "Loss: 1.679932, Train accuracy: 0.733333, val accuracy: 0.066667\n",
      "Loss: 1.249896, Train accuracy: 0.733333, val accuracy: 0.066667\n",
      "Loss: 1.602376, Train accuracy: 0.733333, val accuracy: 0.066667\n",
      "Loss: 1.331700, Train accuracy: 0.733333, val accuracy: 0.066667\n",
      "Loss: 1.905380, Train accuracy: 0.733333, val accuracy: 0.066667\n",
      "Loss: 0.924751, Train accuracy: 0.733333, val accuracy: 0.066667\n",
      "Loss: 1.671972, Train accuracy: 0.733333, val accuracy: 0.066667\n",
      "Loss: 1.599752, Train accuracy: 0.733333, val accuracy: 0.066667\n",
      "Loss: 1.579275, Train accuracy: 0.733333, val accuracy: 0.066667\n",
      "Loss: 1.560202, Train accuracy: 0.733333, val accuracy: 0.066667\n",
      "Loss: 1.213828, Train accuracy: 0.733333, val accuracy: 0.066667\n",
      "Loss: 0.818113, Train accuracy: 0.733333, val accuracy: 0.066667\n",
      "Loss: 1.649587, Train accuracy: 0.733333, val accuracy: 0.066667\n",
      "Loss: 1.202812, Train accuracy: 0.800000, val accuracy: 0.066667\n",
      "Loss: 1.310614, Train accuracy: 0.866667, val accuracy: 0.066667\n",
      "Loss: 1.331466, Train accuracy: 0.866667, val accuracy: 0.066667\n",
      "Loss: 1.628917, Train accuracy: 0.800000, val accuracy: 0.066667\n",
      "Loss: 1.257773, Train accuracy: 0.800000, val accuracy: 0.066667\n",
      "Loss: 1.211473, Train accuracy: 0.800000, val accuracy: 0.066667\n",
      "Loss: 1.647048, Train accuracy: 0.800000, val accuracy: 0.066667\n",
      "Loss: 1.583209, Train accuracy: 0.800000, val accuracy: 0.066667\n",
      "Loss: 0.938760, Train accuracy: 0.933333, val accuracy: 0.066667\n",
      "Loss: 1.412639, Train accuracy: 0.933333, val accuracy: 0.066667\n",
      "Loss: 0.889908, Train accuracy: 0.933333, val accuracy: 0.066667\n",
      "Loss: 1.636552, Train accuracy: 0.933333, val accuracy: 0.066667\n",
      "Loss: 1.207564, Train accuracy: 0.866667, val accuracy: 0.066667\n",
      "Loss: 0.994959, Train accuracy: 0.933333, val accuracy: 0.066667\n",
      "Loss: 1.343526, Train accuracy: 0.933333, val accuracy: 0.066667\n",
      "Loss: 1.890558, Train accuracy: 0.933333, val accuracy: 0.066667\n",
      "Loss: 1.612994, Train accuracy: 0.933333, val accuracy: 0.066667\n",
      "Loss: 0.966891, Train accuracy: 0.866667, val accuracy: 0.066667\n",
      "Loss: 1.185588, Train accuracy: 0.933333, val accuracy: 0.066667\n",
      "Loss: 1.216733, Train accuracy: 0.933333, val accuracy: 0.066667\n",
      "Loss: 1.628903, Train accuracy: 0.933333, val accuracy: 0.066667\n",
      "Loss: 1.877665, Train accuracy: 0.933333, val accuracy: 0.066667\n",
      "Loss: 1.284561, Train accuracy: 0.933333, val accuracy: 0.066667\n",
      "Loss: 1.281695, Train accuracy: 0.933333, val accuracy: 0.066667\n",
      "Loss: 1.361355, Train accuracy: 0.933333, val accuracy: 0.066667\n",
      "Loss: 1.566616, Train accuracy: 0.933333, val accuracy: 0.066667\n",
      "Loss: 1.526091, Train accuracy: 0.933333, val accuracy: 0.066667\n",
      "Loss: 1.595131, Train accuracy: 0.933333, val accuracy: 0.066667\n",
      "Loss: 1.468855, Train accuracy: 0.933333, val accuracy: 0.066667\n",
      "Loss: 1.548144, Train accuracy: 0.933333, val accuracy: 0.066667\n",
      "Loss: 1.094585, Train accuracy: 0.933333, val accuracy: 0.066667\n",
      "Loss: 1.025258, Train accuracy: 0.933333, val accuracy: 0.066667\n",
      "Loss: 1.235178, Train accuracy: 0.933333, val accuracy: 0.066667\n",
      "Loss: 1.541439, Train accuracy: 0.933333, val accuracy: 0.066667\n",
      "Loss: 1.277867, Train accuracy: 0.933333, val accuracy: 0.066667\n",
      "Loss: 1.461273, Train accuracy: 0.933333, val accuracy: 0.000000\n",
      "Loss: 1.144509, Train accuracy: 0.933333, val accuracy: 0.066667\n",
      "Loss: 1.221760, Train accuracy: 0.933333, val accuracy: 0.066667\n",
      "Loss: 1.459773, Train accuracy: 1.000000, val accuracy: 0.000000\n",
      "Loss: 1.216618, Train accuracy: 0.933333, val accuracy: 0.000000\n",
      "Loss: 1.338440, Train accuracy: 1.000000, val accuracy: 0.000000\n",
      "Loss: 1.272769, Train accuracy: 1.000000, val accuracy: 0.000000\n",
      "Loss: 1.433696, Train accuracy: 1.000000, val accuracy: 0.000000\n",
      "Loss: 1.387702, Train accuracy: 1.000000, val accuracy: 0.000000\n",
      "Loss: 1.165574, Train accuracy: 0.933333, val accuracy: 0.000000\n",
      "Loss: 1.123161, Train accuracy: 1.000000, val accuracy: 0.000000\n",
      "Loss: 1.246977, Train accuracy: 1.000000, val accuracy: 0.000000\n",
      "Loss: 1.196572, Train accuracy: 1.000000, val accuracy: 0.000000\n",
      "Loss: 1.441662, Train accuracy: 1.000000, val accuracy: 0.000000\n",
      "Loss: 1.206592, Train accuracy: 0.933333, val accuracy: 0.000000\n",
      "Loss: 1.140290, Train accuracy: 1.000000, val accuracy: 0.000000\n",
      "Loss: 1.100225, Train accuracy: 1.000000, val accuracy: 0.000000\n",
      "Loss: 1.072738, Train accuracy: 1.000000, val accuracy: 0.000000\n",
      "Loss: 1.539453, Train accuracy: 1.000000, val accuracy: 0.000000\n",
      "Loss: 1.158768, Train accuracy: 1.000000, val accuracy: 0.000000\n",
      "Loss: 1.365884, Train accuracy: 1.000000, val accuracy: 0.000000\n",
      "Loss: 1.375117, Train accuracy: 1.000000, val accuracy: 0.000000\n",
      "Loss: 1.255018, Train accuracy: 1.000000, val accuracy: 0.000000\n",
      "Loss: 1.260180, Train accuracy: 1.000000, val accuracy: 0.000000\n",
      "Loss: 1.380571, Train accuracy: 1.000000, val accuracy: 0.000000\n"
     ]
    },
    {
     "name": "stdout",
     "output_type": "stream",
     "text": [
      "Loss: 1.204830, Train accuracy: 1.000000, val accuracy: 0.000000\n",
      "Loss: 1.363883, Train accuracy: 1.000000, val accuracy: 0.000000\n",
      "Loss: 1.142631, Train accuracy: 1.000000, val accuracy: 0.000000\n",
      "Loss: 1.387695, Train accuracy: 1.000000, val accuracy: 0.000000\n",
      "Loss: 1.191994, Train accuracy: 1.000000, val accuracy: 0.000000\n",
      "Loss: 1.135800, Train accuracy: 1.000000, val accuracy: 0.000000\n",
      "Loss: 1.063826, Train accuracy: 1.000000, val accuracy: 0.000000\n",
      "Loss: 1.350243, Train accuracy: 1.000000, val accuracy: 0.000000\n",
      "Loss: 1.499024, Train accuracy: 1.000000, val accuracy: 0.000000\n",
      "Loss: 1.159323, Train accuracy: 1.000000, val accuracy: 0.000000\n",
      "Loss: 1.069092, Train accuracy: 1.000000, val accuracy: 0.000000\n",
      "Loss: 1.306594, Train accuracy: 1.000000, val accuracy: 0.000000\n",
      "Loss: 1.154993, Train accuracy: 1.000000, val accuracy: 0.000000\n",
      "Loss: 1.357715, Train accuracy: 1.000000, val accuracy: 0.000000\n",
      "Loss: 1.263230, Train accuracy: 1.000000, val accuracy: 0.000000\n",
      "Loss: 1.557813, Train accuracy: 1.000000, val accuracy: 0.000000\n"
     ]
    }
   ],
   "source": [
    "data_size = 15\n",
    "model = TwoLayerNet(n_input = train_X.shape[1], n_output = 10, hidden_layer_size = 100, reg = 1e-1)\n",
    "dataset = Dataset(train_X[:data_size], train_y[:data_size], val_X[:data_size], val_y[:data_size])\n",
    "trainer = Trainer(model, dataset, SGD(), learning_rate=1e-1, num_epochs=150, batch_size=5)\n",
    "\n",
    "# You should expect this to reach 1.0 training accuracy \n",
    "loss_history, train_history, val_history = trainer.fit()"
   ]
  },
  {
   "cell_type": "markdown",
   "metadata": {},
   "source": [
    "Теперь найдем гипепараметры, для которых этот процесс сходится быстрее.\n",
    "Если все реализовано корректно, то существуют параметры, при которых процесс сходится в **20** эпох или еще быстрее.\n",
    "Найдите их!"
   ]
  },
  {
   "cell_type": "code",
   "execution_count": 538,
   "metadata": {},
   "outputs": [
    {
     "name": "stdout",
     "output_type": "stream",
     "text": [
      "Loss: 2.327437, Train accuracy: 0.200000, val accuracy: 0.133333\n",
      "Loss: 2.247508, Train accuracy: 0.200000, val accuracy: 0.133333\n",
      "Loss: 2.209995, Train accuracy: 0.333333, val accuracy: 0.066667\n",
      "Loss: 1.847472, Train accuracy: 0.400000, val accuracy: 0.000000\n",
      "Loss: 1.643536, Train accuracy: 0.400000, val accuracy: 0.000000\n",
      "Loss: 3.246642, Train accuracy: 0.400000, val accuracy: 0.000000\n",
      "Loss: 1.259490, Train accuracy: 0.333333, val accuracy: 0.200000\n",
      "Loss: 1.760730, Train accuracy: 0.466667, val accuracy: 0.000000\n",
      "Loss: 1.220186, Train accuracy: 0.600000, val accuracy: 0.000000\n",
      "Loss: 0.589333, Train accuracy: 0.733333, val accuracy: 0.000000\n",
      "Loss: 0.822475, Train accuracy: 0.800000, val accuracy: 0.066667\n",
      "Loss: 0.285590, Train accuracy: 0.800000, val accuracy: 0.000000\n",
      "Loss: 0.707013, Train accuracy: 0.933333, val accuracy: 0.000000\n",
      "Loss: 0.468225, Train accuracy: 1.000000, val accuracy: 0.000000\n",
      "Loss: 0.447160, Train accuracy: 1.000000, val accuracy: 0.000000\n",
      "Loss: 0.921182, Train accuracy: 0.933333, val accuracy: 0.000000\n",
      "Loss: 0.509359, Train accuracy: 1.000000, val accuracy: 0.066667\n",
      "Loss: 0.567603, Train accuracy: 1.000000, val accuracy: 0.000000\n",
      "Loss: 0.580234, Train accuracy: 1.000000, val accuracy: 0.000000\n",
      "Loss: 0.517859, Train accuracy: 1.000000, val accuracy: 0.000000\n"
     ]
    }
   ],
   "source": [
    "## Now, tweak some hyper parameters and make it train to 1.0 accuracy in 20 epochs or less\n",
    "\n",
    "model = TwoLayerNet(n_input = train_X.shape[1], n_output = 10, hidden_layer_size = 100, reg = 1e-2)\n",
    "dataset = Dataset(train_X[:data_size], train_y[:data_size], val_X[:data_size], val_y[:data_size])\n",
    "trainer = Trainer(model, dataset, MomentumSGD(), learning_rate=1e-1, learning_rate_decay=.99\n",
    "                  , num_epochs=20, batch_size=5)\n",
    "\n",
    "loss_history, train_history, val_history = trainer.fit()"
   ]
  },
  {
   "cell_type": "markdown",
   "metadata": {},
   "source": [
    "# Итак, основное мероприятие!\n",
    "\n",
    "Натренируйте лучшую нейросеть! Можно добавлять и изменять параметры, менять количество нейронов в слоях сети и как угодно экспериментировать. \n",
    "\n",
    "Добейтесь точности лучше **60%** на validation set."
   ]
  },
  {
   "cell_type": "code",
   "execution_count": 541,
   "metadata": {
    "scrolled": true
   },
   "outputs": [
    {
     "name": "stdout",
     "output_type": "stream",
     "text": [
      "Loss: 2.151276, Train accuracy: 0.196667, val accuracy: 0.206000\n",
      "Loss: 1.690152, Train accuracy: 0.417556, val accuracy: 0.416000\n",
      "Loss: 1.465420, Train accuracy: 0.541889, val accuracy: 0.539000\n",
      "Loss: 1.270703, Train accuracy: 0.606333, val accuracy: 0.614000\n",
      "Loss: 1.601839, Train accuracy: 0.676222, val accuracy: 0.660000\n",
      "Loss: 0.761779, Train accuracy: 0.686778, val accuracy: 0.656000\n",
      "Loss: 1.005925, Train accuracy: 0.732222, val accuracy: 0.692000\n",
      "Loss: 1.268669, Train accuracy: 0.724333, val accuracy: 0.689000\n",
      "Loss: 0.867330, Train accuracy: 0.741667, val accuracy: 0.691000\n",
      "Loss: 0.900992, Train accuracy: 0.752667, val accuracy: 0.712000\n"
     ]
    }
   ],
   "source": [
    "# Let's train the best one-hidden-layer network we can\n",
    "\n",
    "learning_rates = 1e-1\n",
    "reg_strength = 1e-3\n",
    "learning_rate_decay = 0.9\n",
    "hidden_layer_size = 64\n",
    "num_epochs = 10\n",
    "batch_size = 128\n",
    "\n",
    "loss_history = []\n",
    "train_history = []\n",
    "val_history = []\n",
    "\n",
    "model = TwoLayerNet(n_input = train_X.shape[1], n_output = 10\n",
    "                    , hidden_layer_size = hidden_layer_size, reg = reg_strength)\n",
    "dataset = Dataset(train_X, train_y, val_X, val_y)\n",
    "trainer = Trainer(model, dataset, MomentumSGD(), learning_rate=learning_rates\n",
    "                  , learning_rate_decay=learning_rate_decay\n",
    "                  , num_epochs=num_epochs, batch_size=batch_size, )\n",
    "\n",
    "loss_history, train_history, val_history = trainer.fit()"
   ]
  },
  {
   "cell_type": "code",
   "execution_count": 542,
   "metadata": {},
   "outputs": [
    {
     "data": {
      "text/plain": [
       "[<matplotlib.lines.Line2D at 0x11f02dbe0>]"
      ]
     },
     "execution_count": 542,
     "metadata": {},
     "output_type": "execute_result"
    },
    {
     "data": {
      "image/png": "[encoded data removed]",
      "text/plain": [
       "<Figure size 1080x504 with 2 Axes>"
      ]
     },
     "metadata": {
      "needs_background": "light"
     },
     "output_type": "display_data"
    }
   ],
   "source": [
    "plt.figure(figsize=(15, 7))\n",
    "plt.subplot(211)\n",
    "plt.title(\"Loss\")\n",
    "plt.plot(loss_history)\n",
    "plt.subplot(212)\n",
    "plt.title(\"Train/validation accuracy\")\n",
    "plt.plot(train_history)\n",
    "plt.plot(val_history)"
   ]
  },
  {
   "cell_type": "markdown",
   "metadata": {},
   "source": [
    "# Как обычно, посмотрим, как наша лучшая модель работает на тестовых данных"
   ]
  },
  {
   "cell_type": "code",
   "execution_count": 553,
   "metadata": {},
   "outputs": [
    {
     "name": "stdout",
     "output_type": "stream",
     "text": [
      "Neural net test set accuracy: 0.674000\n"
     ]
    }
   ],
   "source": [
    "test_pred = model.predict(test_X)\n",
    "test_accuracy = multiclass_accuracy(test_pred, test_y)\n",
    "print('Neural net test set accuracy: %f' % (test_accuracy, ))"
   ]
  }
 ],
 "metadata": {
  "kernelspec": {
   "display_name": "Python 3",
   "language": "python",
   "name": "python3"
  },
  "language_info": {
   "codemirror_mode": {
    "name": "ipython",
    "version": 3
   },
   "file_extension": ".py",
   "mimetype": "text/x-python",
   "name": "python",
   "nbconvert_exporter": "python",
   "pygments_lexer": "ipython3",
   "version": "3.7.3"
  }
 },
 "nbformat": 4,
 "nbformat_minor": 2
}
